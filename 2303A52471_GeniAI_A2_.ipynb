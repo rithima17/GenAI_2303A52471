{
  "nbformat": 4,
  "nbformat_minor": 0,
  "metadata": {
    "colab": {
      "provenance": [],
      "include_colab_link": true
    },
    "kernelspec": {
      "name": "python3",
      "display_name": "Python 3"
    },
    "language_info": {
      "name": "python"
    }
  },
  "cells": [
    {
      "cell_type": "markdown",
      "metadata": {
        "id": "view-in-github",
        "colab_type": "text"
      },
      "source": [
        "<a href=\"https://colab.research.google.com/github/rithima17/GenAI_2303A52471/blob/main/2303A52471_GeniAI_A2_.ipynb\" target=\"_parent\"><img src=\"https://colab.research.google.com/assets/colab-badge.svg\" alt=\"Open In Colab\"/></a>"
      ]
    },
    {
      "source": [
        "from scipy.optimize import linprog\n",
        "\n",
        "\n",
        "c = [-6, -5]\n",
        "\n",
        "\n",
        "A = [[1, 1], [3, 2]]\n",
        "b = [5, 12]\n",
        "\n",
        "\n",
        "x0_bounds = (0, None)\n",
        "x1_bounds = (0, None)\n",
        "\n",
        "\n",
        "result = linprog(c, A_ub=A, b_ub=b, bounds=[x0_bounds, x1_bounds], method='highs')\n",
        "\n",
        "\n",
        "units_A, units_B = result.x\n",
        "\n",
        "\n",
        "print(f'Optimal Solution:')\n",
        "print(f'Units of A: {units_A:.0f}')\n",
        "print(f'Units of B: {units_B:.0f}')\n",
        "print(f'Optimal Value (Maximum Profit): Rs {-result.fun:.2f}')"
      ],
      "cell_type": "code",
      "metadata": {
        "colab": {
          "base_uri": "https://localhost:8080/"
        },
        "id": "NAzzTwPwXuPB",
        "outputId": "e9356e9d-f71b-4ca7-e130-166b30deaec4"
      },
      "execution_count": null,
      "outputs": [
        {
          "output_type": "stream",
          "name": "stdout",
          "text": [
            "Optimal Solution:\n",
            "Units of A: 2\n",
            "Units of B: 3\n",
            "Optimal Value (Maximum Profit): Rs 27.00\n"
          ]
        }
      ]
    },
    {
      "source": [
        "from scipy.optimize import linprog\n",
        "\n",
        "\n",
        "c = [-2000, -50]\n",
        "\n",
        "\n",
        "A = [[7000, 120], [10, 30]]\n",
        "b = [700000, 1200]\n",
        "\n",
        "\n",
        "x0_bounds = (0, None)\n",
        "x1_bounds = (0, None)\n",
        "\n",
        "\n",
        "result = linprog(c, A_ub=A, b_ub=b, bounds=[x0_bounds, x1_bounds], method='highs')\n",
        "\n",
        "\n",
        "wheat_area, barley_area = result.x\n",
        "\n",
        "\n",
        "print(f'Optimal Solution:')\n",
        "print(f'Wheat acreage: {wheat_area:.2f} hectares')\n",
        "print(f'Barley acreage: {barley_area:.2f} hectares')\n",
        "print(f'Optimal Value (Maximum Profit): Rs {-result.fun:.2f}')"
      ],
      "cell_type": "code",
      "metadata": {
        "colab": {
          "base_uri": "https://localhost:8080/"
        },
        "id": "66UBStsnW7Pt",
        "outputId": "ff0d4069-c70f-4ca6-b340-93124a482c8a"
      },
      "execution_count": null,
      "outputs": [
        {
          "output_type": "stream",
          "name": "stdout",
          "text": [
            "Optimal Solution:\n",
            "Wheat acreage: 99.89 hectares\n",
            "Barley acreage: 6.70 hectares\n",
            "Optimal Value (Maximum Profit): Rs 200105.36\n"
          ]
        }
      ]
    }
  ]
}